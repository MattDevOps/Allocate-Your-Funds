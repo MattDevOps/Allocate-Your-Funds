{
 "cells": [
  {
   "cell_type": "code",
   "execution_count": 35,
   "metadata": {},
   "outputs": [
    {
     "ename": "TypeError",
     "evalue": "sequence item 0: expected str instance, int found",
     "output_type": "error",
     "traceback": [
      "\u001b[1;31m---------------------------------------------------------------------------\u001b[0m",
      "\u001b[1;31mTypeError\u001b[0m                                 Traceback (most recent call last)",
      "\u001b[1;32m<ipython-input-35-356bbc2307e3>\u001b[0m in \u001b[0;36m<module>\u001b[1;34m()\u001b[0m\n\u001b[0;32m      1\u001b[0m \u001b[0mnum_list\u001b[0m \u001b[1;33m=\u001b[0m \u001b[1;33m[\u001b[0m\u001b[1;36m2\u001b[0m\u001b[1;33m,\u001b[0m \u001b[1;36m0\u001b[0m\u001b[1;33m,\u001b[0m \u001b[1;36m0\u001b[0m\u001b[1;33m,\u001b[0m \u001b[1;36m0\u001b[0m\u001b[1;33m,\u001b[0m \u001b[1;36m0\u001b[0m\u001b[1;33m]\u001b[0m\u001b[1;33m\u001b[0m\u001b[0m\n\u001b[0;32m      2\u001b[0m \u001b[0mnum_list\u001b[0m\u001b[1;33m\u001b[0m\u001b[0m\n\u001b[1;32m----> 3\u001b[1;33m \u001b[1;34m''\u001b[0m\u001b[1;33m.\u001b[0m\u001b[0mjoin\u001b[0m\u001b[1;33m(\u001b[0m\u001b[0mnum_list\u001b[0m\u001b[1;33m)\u001b[0m\u001b[1;33m\u001b[0m\u001b[0m\n\u001b[0m",
      "\u001b[1;31mTypeError\u001b[0m: sequence item 0: expected str instance, int found"
     ]
    }
   ],
   "source": [
    "num_list = [2, 0, 0, 0, 0]\n",
    "num_list\n",
    "''.join(num_list)\n",
    "\n"
   ]
  },
  {
   "cell_type": "code",
   "execution_count": null,
   "metadata": {},
   "outputs": [],
   "source": []
  },
  {
   "cell_type": "code",
   "execution_count": 86,
   "metadata": {},
   "outputs": [],
   "source": [
    "def add_comma_comprehension(number):\n",
    "    return list(''.join(l + 'x' * (n % 3 == 2) for n, l in enumerate(number)))\n",
    "\n",
    "def add_comma(number):\n",
    "    for I in range(len(number)):\n",
    "        if len(number) == 4:\n",
    "            text = str(number)\n",
    "            text = text[:1] + ',' + text[1:]\n",
    "            return text\n",
    "        if len(number) == 5:\n",
    "            text = str(number)\n",
    "            text = text[:2] + ',' + text[2:]\n",
    "            return text\n",
    "        if len(number) == 6:\n",
    "            text = str(number)\n",
    "            text = text[:3] + ',' + text[3:]\n",
    "            return text\n",
    "#         if len(number) == 7:\n",
    "#             text = str(number)\n",
    "#             text = text[:3] + ',' + text[3:]\n",
    "#             return text\n",
    "#         if len(number) == 8:\n",
    "#             text = str(number)\n",
    "#             text = text[:3] + ',' + text[5:]\n",
    "#             return text\n",
    "#         if len(number) == 9:\n",
    "#             text = str(number)\n",
    "#             text = text[:3] + ',' + text[6:]\n",
    "#             return text\n",
    "        else:\n",
    "            add_comma_comprehension(number)\n",
    "            \n",
    "        \n",
    "num3 = 1234567\n",
    "num2 = 123456789        \n",
    "num1 = 200000        \n",
    "num = 20000\n",
    "add_comma(str(num3))"
   ]
  },
  {
   "cell_type": "code",
   "execution_count": 97,
   "metadata": {},
   "outputs": [
    {
     "data": {
      "text/plain": [
       "'200,000'"
      ]
     },
     "execution_count": 97,
     "metadata": {},
     "output_type": "execute_result"
    }
   ],
   "source": [
    "def add_comma_comprehension(number):\n",
    "    return list(''.join(l + 'x' * (n % 3 == 2) for n, l in enumerate(number)))\n",
    "\n",
    "\n",
    "def add_comma(number):\n",
    "    for _ in range(len(number)):\n",
    "        if len(number) == 4:\n",
    "            text = str(number)\n",
    "            text = text[:1] + ',' + text[1:]\n",
    "            return text\n",
    "        if len(number) == 5:\n",
    "            text = str(number)\n",
    "            text = text[:2] + ',' + text[2:]\n",
    "            return text\n",
    "        if len(number) == 6:\n",
    "            text = str(number)\n",
    "            text = text[:3] + ',' + text[3:]\n",
    "            return text\n",
    "\n",
    "        else:\n",
    "            add_comma_comprehension(number)\n",
    "            \n",
    "        \n",
    "num3 = 1234567\n",
    "num2 = 123456789        \n",
    "num1 = 200000        \n",
    "num = 20000\n",
    "add_comma(str(num1))"
   ]
  },
  {
   "cell_type": "code",
   "execution_count": 13,
   "metadata": {},
   "outputs": [
    {
     "name": "stdout",
     "output_type": "stream",
     "text": [
      "['1', '0', '0', '0', '0']\n",
      "\n",
      "[0, 0]\n",
      "[1, 2]\n",
      "[4, 4]\n",
      "[9, 6]\n",
      "[16, 8]\n"
     ]
    }
   ],
   "source": [
    "arr = [9, 9, 9, 9]\n",
    "print(list(str(int(\"\".join(map(str, arr)))+1)))\n",
    "print(\"\")\n",
    "\n",
    "def multiply(x):\n",
    "    return (x*x)\n",
    "def add(x):\n",
    "    return (x+x)\n",
    "\n",
    "funcs = [multiply, add]\n",
    "for i in range(5):\n",
    "    value = list(map(lambda x: x(i), funcs))\n",
    "    print(value)\n",
    "    \n",
    "#why does the addition work here? how does it get its result? not sure where the numbers come from    "
   ]
  }
 ],
 "metadata": {
  "kernelspec": {
   "display_name": "Python 3",
   "language": "python",
   "name": "python3"
  },
  "language_info": {
   "codemirror_mode": {
    "name": "ipython",
    "version": 3
   },
   "file_extension": ".py",
   "mimetype": "text/x-python",
   "name": "python",
   "nbconvert_exporter": "python",
   "pygments_lexer": "ipython3",
   "version": "3.6.4"
  }
 },
 "nbformat": 4,
 "nbformat_minor": 2
}
